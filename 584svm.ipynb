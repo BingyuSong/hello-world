{
 "cells": [
  {
   "cell_type": "code",
   "execution_count": 2,
   "metadata": {
    "collapsed": false
   },
   "outputs": [],
   "source": [
    "import numpy as np\n",
    "import cvxopt\n",
    "import matplotlib.pyplot as plt\n",
    "from matplotlib import pylab\n",
    "from matplotlib import colors\n",
    "from sklearn.svm import SVC"
   ]
  },
  {
   "cell_type": "code",
   "execution_count": 3,
   "metadata": {
    "collapsed": false
   },
   "outputs": [],
   "source": [
    "X = np.array([[1,1],[2,3],[2.2,3],[3,1]])\n",
    "y = np.array([1.,1.,-1.,-1.])"
   ]
  },
  {
   "cell_type": "markdown",
   "metadata": {},
   "source": [
    "## no kernel"
   ]
  },
  {
   "cell_type": "code",
   "execution_count": 4,
   "metadata": {
    "collapsed": false
   },
   "outputs": [],
   "source": [
    "# no kernel\n",
    "# use cvxopt find the alphas.\n",
    "ni, nf = X.shape\n",
    "X_ = np.matrix(X)\n",
    "P = cvxopt.matrix(np.outer(y,y) * np.array(X_* X_.T))\n",
    "q = cvxopt.matrix(-1 * np.ones(ni))\n",
    "G = cvxopt.matrix(np.diag(-1*np.ones(ni)))\n",
    "h = cvxopt.matrix(np.zeros(ni))\n",
    "A = cvxopt.matrix(y,(1,ni))\n",
    "b = cvxopt.matrix(0.0)"
   ]
  },
  {
   "cell_type": "code",
   "execution_count": 5,
   "metadata": {
    "collapsed": false
   },
   "outputs": [
    {
     "name": "stdout",
     "output_type": "stream",
     "text": [
      "     pcost       dcost       gap    pres   dres\n",
      " 0: -2.1330e+00 -4.9051e+00  3e+00  6e-17  2e+00\n",
      " 1: -4.4482e+00 -4.9674e+00  5e-01  4e-16  9e-01\n",
      " 2: -2.8979e+01 -3.7154e+01  8e+00  5e-15  9e-01\n",
      " 3: -4.9519e+01 -5.9459e+01  1e+01  8e-15  2e-01\n",
      " 4: -5.0000e+01 -5.0154e+01  2e-01  2e-14  3e-03\n",
      " 5: -5.0000e+01 -5.0002e+01  2e-03  2e-14  3e-05\n",
      " 6: -5.0000e+01 -5.0000e+01  2e-05  2e-14  3e-07\n",
      " 7: -5.0000e+01 -5.0000e+01  2e-07  7e-15  3e-09\n",
      "Optimal solution found.\n"
     ]
    }
   ],
   "source": [
    "sol = cvxopt.solvers.qp(P,q,G,h,A,b)"
   ]
  },
  {
   "cell_type": "code",
   "execution_count": 6,
   "metadata": {
    "collapsed": false
   },
   "outputs": [],
   "source": [
    "alphas = np.ravel(sol['x'])"
   ]
  },
  {
   "cell_type": "code",
   "execution_count": 7,
   "metadata": {
    "collapsed": false
   },
   "outputs": [
    {
     "data": {
      "text/plain": [
       "array([  4.46345312e-12,   4.99999999e+01,   4.99999999e+01,\n",
       "         2.85470518e-12])"
      ]
     },
     "execution_count": 7,
     "metadata": {},
     "output_type": "execute_result"
    }
   ],
   "source": [
    "alphas"
   ]
  },
  {
   "cell_type": "code",
   "execution_count": 8,
   "metadata": {
    "collapsed": true
   },
   "outputs": [],
   "source": [
    "sv_inds = np.arange(len(y))[alphas>1e-5]"
   ]
  },
  {
   "cell_type": "markdown",
   "metadata": {},
   "source": [
    "according to alphas, calculate w and b"
   ]
  },
  {
   "cell_type": "code",
   "execution_count": 9,
   "metadata": {
    "collapsed": false
   },
   "outputs": [],
   "source": [
    "w = 0\n",
    "for i in sv_inds:\n",
    "    w += alphas[i]* X[i] *y[i]"
   ]
  },
  {
   "cell_type": "code",
   "execution_count": 10,
   "metadata": {
    "collapsed": false
   },
   "outputs": [
    {
     "data": {
      "text/plain": [
       "array([ -9.99999998e+00,  -4.86011231e-12])"
      ]
     },
     "execution_count": 10,
     "metadata": {},
     "output_type": "execute_result"
    }
   ],
   "source": [
    "w"
   ]
  },
  {
   "cell_type": "code",
   "execution_count": 11,
   "metadata": {
    "collapsed": false
   },
   "outputs": [],
   "source": [
    "b = 0\n",
    "for i in sv_inds:\n",
    "    temp = np.dot(w,X[i].T)\n",
    "    b += (y[i] - temp)\n",
    "b /= len(sv_inds)"
   ]
  },
  {
   "cell_type": "code",
   "execution_count": 12,
   "metadata": {
    "collapsed": false
   },
   "outputs": [
    {
     "data": {
      "text/plain": [
       "20.999999961940965"
      ]
     },
     "execution_count": 12,
     "metadata": {},
     "output_type": "execute_result"
    }
   ],
   "source": [
    "b"
   ]
  },
  {
   "cell_type": "markdown",
   "metadata": {},
   "source": [
    "## kernels"
   ]
  },
  {
   "cell_type": "code",
   "execution_count": 13,
   "metadata": {
    "collapsed": true
   },
   "outputs": [],
   "source": [
    "#kernels function\n",
    "def linear_kernel(x1,x2):\n",
    "    return np.dot(x1,x2)"
   ]
  },
  {
   "cell_type": "code",
   "execution_count": 14,
   "metadata": {
    "collapsed": true
   },
   "outputs": [],
   "source": [
    "def poly_kernel(x1,x2,d=2):\n",
    "    return (np.dot(x1,x2) +1) **d"
   ]
  },
  {
   "cell_type": "code",
   "execution_count": 15,
   "metadata": {
    "collapsed": true
   },
   "outputs": [],
   "source": [
    "def gau(x1,x2,s):\n",
    "    return np.exp(-1*(np.dot(x1-x2,x1-x2)/(2*(s**2))))"
   ]
  },
  {
   "cell_type": "code",
   "execution_count": 16,
   "metadata": {
    "collapsed": true
   },
   "outputs": [],
   "source": [
    "def tanh_kernel(x1,x2):\n",
    "    return np.tanh(2*np.dot(x1,x2)+1)"
   ]
  },
  {
   "cell_type": "code",
   "execution_count": 17,
   "metadata": {
    "collapsed": true
   },
   "outputs": [],
   "source": [
    "#define which kernel function we want to use.\n",
    "#kf = lambda x1,x2: radial_basis_kernel(x1,x2,3)\n",
    "kf = linear_kernel"
   ]
  },
  {
   "cell_type": "code",
   "execution_count": 18,
   "metadata": {
    "collapsed": true
   },
   "outputs": [],
   "source": [
    "def kernel_matrix(X,kf):\n",
    "    ns, nf = X.shape\n",
    "    km = np.zeros((ns,ns))\n",
    "    for i in range(ns):\n",
    "        for j in range(ns):\n",
    "            km[i,j] = kf(X[i],X[j])\n",
    "    return km"
   ]
  },
  {
   "cell_type": "code",
   "execution_count": 19,
   "metadata": {
    "collapsed": true
   },
   "outputs": [],
   "source": [
    "def classify(X,y,alphas,b,kf,x):\n",
    "    sv_inds = np.arange(len(y))[alphas > 1e-5]\n",
    "    p=0\n",
    "    for i in sv_inds:\n",
    "        p += alphas[i]*y[i]*kf(X[i],x)\n",
    "    return p+b"
   ]
  },
  {
   "cell_type": "code",
   "execution_count": 20,
   "metadata": {
    "collapsed": true
   },
   "outputs": [],
   "source": [
    "def compute_b(X,y,alphas,kf):\n",
    "    sv_inds = np.arange(len(y))[alphas > 1e-5]\n",
    "    b = 0\n",
    "    print(sv_inds)\n",
    "    for i in sv_inds:\n",
    "        b += (y[i] - classify(X,y,alphas,0,kf,X[i]))\n",
    "    return b/len(sv_inds)"
   ]
  },
  {
   "cell_type": "code",
   "execution_count": 23,
   "metadata": {
    "collapsed": false
   },
   "outputs": [],
   "source": [
    "#use cvxopt to calculate alphas\n",
    "ni, nf = X.shape\n",
    "P = cvxopt.matrix(np.outer(y,y) * kernel_matrix(X,kf))\n",
    "q = cvxopt.matrix(-1 * np.ones(ni))\n",
    "G = cvxopt.matrix(np.diag(-1*np.ones(ni)))\n",
    "h = cvxopt.matrix(np.zeros(ni))\n",
    "A = cvxopt.matrix(y,(1,ni))\n",
    "b = cvxopt.matrix(0.0)"
   ]
  },
  {
   "cell_type": "code",
   "execution_count": 24,
   "metadata": {
    "collapsed": false
   },
   "outputs": [
    {
     "name": "stdout",
     "output_type": "stream",
     "text": [
      "     pcost       dcost       gap    pres   dres\n",
      " 0: -1.9296e+00 -4.4806e+00  3e+00  2e-16  2e+00\n",
      " 1: -3.7977e+00 -4.2374e+00  4e-01  4e-16  8e-01\n",
      " 2:  1.6094e+01 -8.0054e+01  1e+02  3e-14  3e-14\n",
      " 3: -1.4330e+01 -2.5127e+01  1e+01  1e-14  4e-14\n",
      " 4: -1.7858e+01 -1.8069e+01  2e-01  8e-15  4e-14\n",
      " 5: -1.7999e+01 -1.8001e+01  2e-03  2e-15  1e-14\n",
      " 6: -1.8000e+01 -1.8000e+01  2e-05  8e-15  3e-14\n",
      " 7: -1.8000e+01 -1.8000e+01  2e-07  4e-15  1e-14\n",
      "Optimal solution found.\n"
     ]
    }
   ],
   "source": [
    "sol = cvxopt.solvers.qp(P,q,G,h,A,b)"
   ]
  },
  {
   "cell_type": "code",
   "execution_count": 25,
   "metadata": {
    "collapsed": true
   },
   "outputs": [],
   "source": [
    "alphas = np.ravel(sol['x'])"
   ]
  },
  {
   "cell_type": "code",
   "execution_count": 26,
   "metadata": {
    "collapsed": false
   },
   "outputs": [
    {
     "data": {
      "text/plain": [
       "1.1852723239414615"
      ]
     },
     "execution_count": 26,
     "metadata": {},
     "output_type": "execute_result"
    }
   ],
   "source": [
    "# calculate function margin(use gaussian kernel), used in quize 11. \n",
    "# new is the new x to be classified. function margin = sum(alphas[i] * y[i] * gaussian(x[i],new x))\n",
    "new = [1,4]\n",
    "sv = [1,2]\n",
    "func_m = 0\n",
    "for i in sv:\n",
    "    func_m += 10 * y[i] * gau(X[i],new,1)\n",
    "func_m"
   ]
  }
 ],
 "metadata": {
  "anaconda-cloud": {},
  "kernelspec": {
   "display_name": "Python [Root]",
   "language": "python",
   "name": "Python [Root]"
  },
  "language_info": {
   "codemirror_mode": {
    "name": "ipython",
    "version": 3
   },
   "file_extension": ".py",
   "mimetype": "text/x-python",
   "name": "python",
   "nbconvert_exporter": "python",
   "pygments_lexer": "ipython3",
   "version": "3.5.2"
  }
 },
 "nbformat": 4,
 "nbformat_minor": 0
}
